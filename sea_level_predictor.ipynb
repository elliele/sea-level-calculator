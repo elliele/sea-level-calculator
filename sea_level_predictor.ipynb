{
 "cells": [
  {
   "cell_type": "code",
   "execution_count": 28,
   "metadata": {},
   "outputs": [],
   "source": [
    "import pandas as pd\n",
    "import matplotlib.pyplot as plt\n",
    "from scipy.stats import linregress\n",
    "import numpy as np"
   ]
  },
  {
   "cell_type": "markdown",
   "metadata": {},
   "source": [
    "* Use Pandas to import the data from `epa-sea-level.csv`."
   ]
  },
  {
   "cell_type": "code",
   "execution_count": 74,
   "metadata": {},
   "outputs": [
    {
     "data": {
      "text/html": [
       "<div>\n",
       "<style scoped>\n",
       "    .dataframe tbody tr th:only-of-type {\n",
       "        vertical-align: middle;\n",
       "    }\n",
       "\n",
       "    .dataframe tbody tr th {\n",
       "        vertical-align: top;\n",
       "    }\n",
       "\n",
       "    .dataframe thead th {\n",
       "        text-align: right;\n",
       "    }\n",
       "</style>\n",
       "<table border=\"1\" class=\"dataframe\">\n",
       "  <thead>\n",
       "    <tr style=\"text-align: right;\">\n",
       "      <th></th>\n",
       "      <th>Year</th>\n",
       "      <th>CSIRO Adjusted Sea Level</th>\n",
       "      <th>Lower Error Bound</th>\n",
       "      <th>Upper Error Bound</th>\n",
       "      <th>NOAA Adjusted Sea Level</th>\n",
       "    </tr>\n",
       "  </thead>\n",
       "  <tbody>\n",
       "    <tr>\n",
       "      <th>0</th>\n",
       "      <td>1880</td>\n",
       "      <td>0.000000</td>\n",
       "      <td>-0.952756</td>\n",
       "      <td>0.952756</td>\n",
       "      <td>NaN</td>\n",
       "    </tr>\n",
       "    <tr>\n",
       "      <th>1</th>\n",
       "      <td>1881</td>\n",
       "      <td>0.220472</td>\n",
       "      <td>-0.732283</td>\n",
       "      <td>1.173228</td>\n",
       "      <td>NaN</td>\n",
       "    </tr>\n",
       "    <tr>\n",
       "      <th>2</th>\n",
       "      <td>1882</td>\n",
       "      <td>-0.440945</td>\n",
       "      <td>-1.346457</td>\n",
       "      <td>0.464567</td>\n",
       "      <td>NaN</td>\n",
       "    </tr>\n",
       "    <tr>\n",
       "      <th>3</th>\n",
       "      <td>1883</td>\n",
       "      <td>-0.232283</td>\n",
       "      <td>-1.129921</td>\n",
       "      <td>0.665354</td>\n",
       "      <td>NaN</td>\n",
       "    </tr>\n",
       "    <tr>\n",
       "      <th>4</th>\n",
       "      <td>1884</td>\n",
       "      <td>0.590551</td>\n",
       "      <td>-0.283465</td>\n",
       "      <td>1.464567</td>\n",
       "      <td>NaN</td>\n",
       "    </tr>\n",
       "    <tr>\n",
       "      <th>...</th>\n",
       "      <td>...</td>\n",
       "      <td>...</td>\n",
       "      <td>...</td>\n",
       "      <td>...</td>\n",
       "      <td>...</td>\n",
       "    </tr>\n",
       "    <tr>\n",
       "      <th>129</th>\n",
       "      <td>2009</td>\n",
       "      <td>8.586614</td>\n",
       "      <td>8.311024</td>\n",
       "      <td>8.862205</td>\n",
       "      <td>8.046354</td>\n",
       "    </tr>\n",
       "    <tr>\n",
       "      <th>130</th>\n",
       "      <td>2010</td>\n",
       "      <td>8.901575</td>\n",
       "      <td>8.618110</td>\n",
       "      <td>9.185039</td>\n",
       "      <td>8.122973</td>\n",
       "    </tr>\n",
       "    <tr>\n",
       "      <th>131</th>\n",
       "      <td>2011</td>\n",
       "      <td>8.964567</td>\n",
       "      <td>8.661417</td>\n",
       "      <td>9.267717</td>\n",
       "      <td>8.053065</td>\n",
       "    </tr>\n",
       "    <tr>\n",
       "      <th>132</th>\n",
       "      <td>2012</td>\n",
       "      <td>9.326772</td>\n",
       "      <td>8.992126</td>\n",
       "      <td>9.661417</td>\n",
       "      <td>8.457058</td>\n",
       "    </tr>\n",
       "    <tr>\n",
       "      <th>133</th>\n",
       "      <td>2013</td>\n",
       "      <td>8.980315</td>\n",
       "      <td>8.622047</td>\n",
       "      <td>9.338583</td>\n",
       "      <td>8.546648</td>\n",
       "    </tr>\n",
       "  </tbody>\n",
       "</table>\n",
       "<p>134 rows × 5 columns</p>\n",
       "</div>"
      ],
      "text/plain": [
       "     Year  CSIRO Adjusted Sea Level  Lower Error Bound  Upper Error Bound  \\\n",
       "0    1880                  0.000000          -0.952756           0.952756   \n",
       "1    1881                  0.220472          -0.732283           1.173228   \n",
       "2    1882                 -0.440945          -1.346457           0.464567   \n",
       "3    1883                 -0.232283          -1.129921           0.665354   \n",
       "4    1884                  0.590551          -0.283465           1.464567   \n",
       "..    ...                       ...                ...                ...   \n",
       "129  2009                  8.586614           8.311024           8.862205   \n",
       "130  2010                  8.901575           8.618110           9.185039   \n",
       "131  2011                  8.964567           8.661417           9.267717   \n",
       "132  2012                  9.326772           8.992126           9.661417   \n",
       "133  2013                  8.980315           8.622047           9.338583   \n",
       "\n",
       "     NOAA Adjusted Sea Level  \n",
       "0                        NaN  \n",
       "1                        NaN  \n",
       "2                        NaN  \n",
       "3                        NaN  \n",
       "4                        NaN  \n",
       "..                       ...  \n",
       "129                 8.046354  \n",
       "130                 8.122973  \n",
       "131                 8.053065  \n",
       "132                 8.457058  \n",
       "133                 8.546648  \n",
       "\n",
       "[134 rows x 5 columns]"
      ]
     },
     "execution_count": 74,
     "metadata": {},
     "output_type": "execute_result"
    }
   ],
   "source": [
    "df = pd.read_csv(\"epa-sea-level.csv\", float_precision='legacy')\n",
    "df"
   ]
  },
  {
   "cell_type": "markdown",
   "metadata": {},
   "source": [
    "Use matplotlib to create a scatter plot using the \"Year\" column as the x-axis and the \"CSIRO Adjusted Sea Level\" column as the y-axis."
   ]
  },
  {
   "cell_type": "code",
   "execution_count": 75,
   "metadata": {},
   "outputs": [
    {
     "data": {
      "text/plain": [
       "<AxesSubplot:xlabel='Year', ylabel='CSIRO Adjusted Sea Level'>"
      ]
     },
     "execution_count": 75,
     "metadata": {},
     "output_type": "execute_result"
    },
    {
     "data": {
      "image/png": "[encoded data removed]",
      "text/plain": [
       "<Figure size 432x288 with 1 Axes>"
      ]
     },
     "metadata": {
      "needs_background": "light"
     },
     "output_type": "display_data"
    }
   ],
   "source": [
    "ax1 = df.plot.scatter(x='Year',\n",
    "                      y='CSIRO Adjusted Sea Level')\n",
    "ax1"
   ]
  },
  {
   "cell_type": "markdown",
   "metadata": {},
   "source": [
    "Use the `linregress` function from `scipi.stats` to get the slope and y-intercept of the line of best fit. Plot the line of best fit over the top of the scatter plot. Make the line go through the year 2050 to predict the sea level rise in 2050."
   ]
  },
  {
   "cell_type": "code",
   "execution_count": 76,
   "metadata": {},
   "outputs": [
    {
     "name": "stdout",
     "output_type": "stream",
     "text": [
      "0.0630445840121348\n",
      "-119.06594196773978\n"
     ]
    }
   ],
   "source": [
    "slope, intercept, r_value, p_value, std_err = linregress(df['Year'], df['CSIRO Adjusted Sea Level'])\n",
    "print(slope)\n",
    "print(intercept)"
   ]
  },
  {
   "cell_type": "code",
   "execution_count": 77,
   "metadata": {},
   "outputs": [
    {
     "data": {
      "image/png": "[encoded data removed]",
      "text/plain": [
       "<Figure size 432x288 with 1 Axes>"
      ]
     },
     "metadata": {
      "needs_background": "light"
     },
     "output_type": "display_data"
    }
   ],
   "source": [
    "plt.scatter(df['Year'], df['CSIRO Adjusted Sea Level'])\n",
    "line_x = np.arange(df['Year'].min(), 2050)\n",
    "line_y = slope*line_x + intercept\n",
    "plt.plot(line_x, line_y, 'r')\n",
    "plt.xlabel(\"Year\")\n",
    "plt.ylabel(\"Sea Level (inches)\")\n",
    "plt.title(\"Rise in Sea Level\")\n",
    "plt.show()\n"
   ]
  },
  {
   "cell_type": "markdown",
   "metadata": {},
   "source": [
    "Plot a new line of best fit just using the data from year 2000 through the most recent year in the dataset. Make the line also go through the year 2050 to predict the sea level rise in 2050 if the rate of rise continues as it has since the year 2000"
   ]
  },
  {
   "cell_type": "code",
   "execution_count": 78,
   "metadata": {},
   "outputs": [
    {
     "data": {
      "text/html": [
       "<div>\n",
       "<style scoped>\n",
       "    .dataframe tbody tr th:only-of-type {\n",
       "        vertical-align: middle;\n",
       "    }\n",
       "\n",
       "    .dataframe tbody tr th {\n",
       "        vertical-align: top;\n",
       "    }\n",
       "\n",
       "    .dataframe thead th {\n",
       "        text-align: right;\n",
       "    }\n",
       "</style>\n",
       "<table border=\"1\" class=\"dataframe\">\n",
       "  <thead>\n",
       "    <tr style=\"text-align: right;\">\n",
       "      <th></th>\n",
       "      <th>Year</th>\n",
       "      <th>CSIRO Adjusted Sea Level</th>\n",
       "      <th>Lower Error Bound</th>\n",
       "      <th>Upper Error Bound</th>\n",
       "      <th>NOAA Adjusted Sea Level</th>\n",
       "    </tr>\n",
       "  </thead>\n",
       "  <tbody>\n",
       "    <tr>\n",
       "      <th>120</th>\n",
       "      <td>2000</td>\n",
       "      <td>7.062992</td>\n",
       "      <td>6.791339</td>\n",
       "      <td>7.334646</td>\n",
       "      <td>6.920582</td>\n",
       "    </tr>\n",
       "    <tr>\n",
       "      <th>121</th>\n",
       "      <td>2001</td>\n",
       "      <td>7.287402</td>\n",
       "      <td>7.019685</td>\n",
       "      <td>7.555118</td>\n",
       "      <td>7.087460</td>\n",
       "    </tr>\n",
       "    <tr>\n",
       "      <th>122</th>\n",
       "      <td>2002</td>\n",
       "      <td>7.381890</td>\n",
       "      <td>7.110236</td>\n",
       "      <td>7.653543</td>\n",
       "      <td>7.319698</td>\n",
       "    </tr>\n",
       "    <tr>\n",
       "      <th>123</th>\n",
       "      <td>2003</td>\n",
       "      <td>7.759843</td>\n",
       "      <td>7.484252</td>\n",
       "      <td>8.035433</td>\n",
       "      <td>7.488353</td>\n",
       "    </tr>\n",
       "    <tr>\n",
       "      <th>124</th>\n",
       "      <td>2004</td>\n",
       "      <td>7.740157</td>\n",
       "      <td>7.464567</td>\n",
       "      <td>8.015748</td>\n",
       "      <td>7.507933</td>\n",
       "    </tr>\n",
       "    <tr>\n",
       "      <th>125</th>\n",
       "      <td>2005</td>\n",
       "      <td>7.744094</td>\n",
       "      <td>7.472441</td>\n",
       "      <td>8.015748</td>\n",
       "      <td>7.644563</td>\n",
       "    </tr>\n",
       "    <tr>\n",
       "      <th>126</th>\n",
       "      <td>2006</td>\n",
       "      <td>7.917323</td>\n",
       "      <td>7.645669</td>\n",
       "      <td>8.188976</td>\n",
       "      <td>7.697420</td>\n",
       "    </tr>\n",
       "    <tr>\n",
       "      <th>127</th>\n",
       "      <td>2007</td>\n",
       "      <td>7.996063</td>\n",
       "      <td>7.712598</td>\n",
       "      <td>8.279528</td>\n",
       "      <td>7.702147</td>\n",
       "    </tr>\n",
       "    <tr>\n",
       "      <th>128</th>\n",
       "      <td>2008</td>\n",
       "      <td>8.350394</td>\n",
       "      <td>8.078740</td>\n",
       "      <td>8.622047</td>\n",
       "      <td>7.907365</td>\n",
       "    </tr>\n",
       "    <tr>\n",
       "      <th>129</th>\n",
       "      <td>2009</td>\n",
       "      <td>8.586614</td>\n",
       "      <td>8.311024</td>\n",
       "      <td>8.862205</td>\n",
       "      <td>8.046354</td>\n",
       "    </tr>\n",
       "    <tr>\n",
       "      <th>130</th>\n",
       "      <td>2010</td>\n",
       "      <td>8.901575</td>\n",
       "      <td>8.618110</td>\n",
       "      <td>9.185039</td>\n",
       "      <td>8.122973</td>\n",
       "    </tr>\n",
       "    <tr>\n",
       "      <th>131</th>\n",
       "      <td>2011</td>\n",
       "      <td>8.964567</td>\n",
       "      <td>8.661417</td>\n",
       "      <td>9.267717</td>\n",
       "      <td>8.053065</td>\n",
       "    </tr>\n",
       "    <tr>\n",
       "      <th>132</th>\n",
       "      <td>2012</td>\n",
       "      <td>9.326772</td>\n",
       "      <td>8.992126</td>\n",
       "      <td>9.661417</td>\n",
       "      <td>8.457058</td>\n",
       "    </tr>\n",
       "    <tr>\n",
       "      <th>133</th>\n",
       "      <td>2013</td>\n",
       "      <td>8.980315</td>\n",
       "      <td>8.622047</td>\n",
       "      <td>9.338583</td>\n",
       "      <td>8.546648</td>\n",
       "    </tr>\n",
       "  </tbody>\n",
       "</table>\n",
       "</div>"
      ],
      "text/plain": [
       "     Year  CSIRO Adjusted Sea Level  Lower Error Bound  Upper Error Bound  \\\n",
       "120  2000                  7.062992           6.791339           7.334646   \n",
       "121  2001                  7.287402           7.019685           7.555118   \n",
       "122  2002                  7.381890           7.110236           7.653543   \n",
       "123  2003                  7.759843           7.484252           8.035433   \n",
       "124  2004                  7.740157           7.464567           8.015748   \n",
       "125  2005                  7.744094           7.472441           8.015748   \n",
       "126  2006                  7.917323           7.645669           8.188976   \n",
       "127  2007                  7.996063           7.712598           8.279528   \n",
       "128  2008                  8.350394           8.078740           8.622047   \n",
       "129  2009                  8.586614           8.311024           8.862205   \n",
       "130  2010                  8.901575           8.618110           9.185039   \n",
       "131  2011                  8.964567           8.661417           9.267717   \n",
       "132  2012                  9.326772           8.992126           9.661417   \n",
       "133  2013                  8.980315           8.622047           9.338583   \n",
       "\n",
       "     NOAA Adjusted Sea Level  \n",
       "120                 6.920582  \n",
       "121                 7.087460  \n",
       "122                 7.319698  \n",
       "123                 7.488353  \n",
       "124                 7.507933  \n",
       "125                 7.644563  \n",
       "126                 7.697420  \n",
       "127                 7.702147  \n",
       "128                 7.907365  \n",
       "129                 8.046354  \n",
       "130                 8.122973  \n",
       "131                 8.053065  \n",
       "132                 8.457058  \n",
       "133                 8.546648  "
      ]
     },
     "execution_count": 78,
     "metadata": {},
     "output_type": "execute_result"
    }
   ],
   "source": [
    "df_2000 = df[df[\"Year\"] >= 2000]\n",
    "slope, intercept, r_value, p_value, std_err = linregress(df_2000['Year'], df_2000['CSIRO Adjusted Sea Level'])\n",
    "df_2000"
   ]
  },
  {
   "cell_type": "code",
   "execution_count": 79,
   "metadata": {},
   "outputs": [
    {
     "data": {
      "image/png": "[encoded data removed]",
      "text/plain": [
       "<Figure size 432x288 with 1 Axes>"
      ]
     },
     "metadata": {
      "needs_background": "light"
     },
     "output_type": "display_data"
    }
   ],
   "source": [
    "line2 = plt.scatter(df_2000['Year'], df_2000['CSIRO Adjusted Sea Level'])\n",
    "line_x2 = np.arange(df_2000['Year'].min(), 2050)\n",
    "line_y2 = slope*line_x2 + intercept\n",
    "plt.plot(line_x2, line_y2, 'r')\n",
    "plt.xlabel(\"Year\")\n",
    "plt.ylabel(\"Sea Level (inches)\")\n",
    "plt.title(\"Rise in Sea Level\")\n",
    "\n",
    "plt.show()"
   ]
  },
  {
   "cell_type": "code",
   "execution_count": null,
   "metadata": {},
   "outputs": [],
   "source": []
  }
 ],
 "metadata": {
  "kernelspec": {
   "display_name": "Python 3",
   "language": "python",
   "name": "python3"
  },
  "language_info": {
   "codemirror_mode": {
    "name": "ipython",
    "version": 3
   },
   "file_extension": ".py",
   "mimetype": "text/x-python",
   "name": "python",
   "nbconvert_exporter": "python",
   "pygments_lexer": "ipython3",
   "version": "3.8.5"
  }
 },
 "nbformat": 4,
 "nbformat_minor": 4
}
